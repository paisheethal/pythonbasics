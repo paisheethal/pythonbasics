{
 "cells": [
  {
   "cell_type": "code",
   "execution_count": null,
   "id": "c123877a",
   "metadata": {},
   "outputs": [],
   "source": [
    "1. Create an assert statement that throws an AssertionError if the variable spam is a negative integer.\n",
    "2. Write an assert statement that triggers an AssertionError if the variables eggs and bacon contain strings that are the same as each other, even if their cases are different (that is, 'hello' and 'hello' are considered the same, and 'goodbye' and 'GOODbye' are also considered the same).\n",
    "3. Create an assert statement that throws an AssertionError every time.\n",
    "4. What are the two lines that must be present in your software in order to call logging.debug()?\n",
    "5. What are the two lines that your program must have in order to have logging.debug() send a logging message to a file named programLog.txt?\n",
    "6. What are the five levels of logging?\n",
    "7. What line of code would you add to your software to disable all logging messages?\n",
    "8.Why is using logging messages better than using print() to display the same message?\n",
    "9. What are the differences between the Step Over, Step In, and Step Out buttons in the debugger?\n",
    "10.After you click Continue, when will the debugger stop ?\n",
    "11. What is the concept of a breakpoint?\n",
    "\n"
   ]
  },
  {
   "cell_type": "code",
   "execution_count": null,
   "id": "ff248199",
   "metadata": {},
   "outputs": [],
   "source": [
    "1. Create an assert statement that throws an AssertionError if the variable spam is a negative integer.\n",
    "\n",
    "ans:\n",
    "spam = int(input(\"Enter the number:\"))\n",
    "assert spam > 0"
   ]
  },
  {
   "cell_type": "code",
   "execution_count": null,
   "id": "8ffed396",
   "metadata": {},
   "outputs": [],
   "source": [
    "2. Write an assert statement that triggers an AssertionError if the variables eggs and bacon contain strings that are \n",
    "the same as each other, even if their cases are different (that is, 'hello' and 'hello' are considered the same, \n",
    "and 'goodbye' and 'GOODbye' are also considered the same).\n",
    "\n",
    "ans:\n",
    "eggs=\"goodbye\"\n",
    "bacon=\"GOODbye\"\n",
    "assert eggs.lower()!=bacon.lower()\n",
    "    "
   ]
  },
  {
   "cell_type": "code",
   "execution_count": null,
   "id": "e1a720d5",
   "metadata": {},
   "outputs": [],
   "source": [
    "3. Create an assert statement that throws an AssertionError every time.\n",
    "\n",
    "ans:\n",
    "assert 1 != 1 "
   ]
  },
  {
   "cell_type": "code",
   "execution_count": null,
   "id": "21022ef0",
   "metadata": {},
   "outputs": [],
   "source": [
    "4. What are the two lines that must be present in your software in order to call logging.debug()?\n",
    "\n",
    "ans:\n",
    "import logging \n",
    "logging.basicConfig(filename=\"filename.log\",level=logging.DEBUG, format=' %(asctime)s - %(levelname)s - %(message)s')"
   ]
  },
  {
   "cell_type": "code",
   "execution_count": null,
   "id": "88846640",
   "metadata": {},
   "outputs": [],
   "source": [
    "5. What are the two lines that your program must have in order to have logging.debug() send a logging message to a file named programLog.txt?\n",
    "\n",
    "ans:\n",
    "import logging \n",
    "logging.basicConfig(filename='programLog.txt', level=logging.DEBUG, format=' %(asctime)s - %(levelname)s - %(message)s')"
   ]
  },
  {
   "cell_type": "code",
   "execution_count": null,
   "id": "7e53f817",
   "metadata": {},
   "outputs": [],
   "source": [
    "6. What are the five levels of logging?\n",
    "\n",
    "ans:\n",
    "DEBUG \n",
    "INFO \n",
    "WARNING \n",
    "ERROR \n",
    "CRITICAL"
   ]
  },
  {
   "cell_type": "code",
   "execution_count": null,
   "id": "d65247b5",
   "metadata": {},
   "outputs": [],
   "source": [
    "7. What line of code would you add to your software to disable all logging messages?\n",
    "\n",
    "ans:\n",
    "logging.disable(logging.CRITICAL)"
   ]
  },
  {
   "cell_type": "code",
   "execution_count": null,
   "id": "6c2a8988",
   "metadata": {},
   "outputs": [],
   "source": [
    "8.Why is using logging messages better than using print() to display the same message?\n",
    "\n",
    "ans:\n",
    "Once we are done debugging, we will end up spending a lot of time removing print() calls from our code for each log message.\n",
    "We might even accidentally remove some print() calls that were being used for nonlog messages. \n",
    "The nice thing about log messages is that you are free to fill your program with as many as you like, \n",
    "and you can always disable them later by adding a single logging.disable(logging.CRITICAL) call. \n",
    "Unlike print(), the logging module makes it easy to switch between showing and hiding log messages."
   ]
  },
  {
   "cell_type": "code",
   "execution_count": null,
   "id": "0f92a944",
   "metadata": {},
   "outputs": [],
   "source": [
    "9. What are the differences between the Step Over, Step In, and Step Out buttons in the debugger?\n",
    "\n",
    "ans:\n",
    "Step Over- If the current line contains a function call, Step Over runs the code and then suspends execution at the first line of code after the called function returns.\n",
    "Step In- If the line does not contain a function it behaves the same as “step over” but if it does the debugger will enter the called function and continue line-by-line debugging there.\n",
    "Step Out- Step Out continues running code and suspends execution when the current function returns. The debugger skips through the current function."
   ]
  },
  {
   "cell_type": "code",
   "execution_count": null,
   "id": "94ee4d83",
   "metadata": {},
   "outputs": [],
   "source": [
    "10.After you click Continue, when will the debugger stop ?\n",
    "\n",
    "ans:\n",
    "It stops only when a breakpoint is encountered"
   ]
  },
  {
   "cell_type": "code",
   "execution_count": null,
   "id": "b796d2af",
   "metadata": {},
   "outputs": [],
   "source": [
    "11. What is the concept of a breakpoint?\n",
    "\n",
    "ans:\n",
    "Breakpoint is an intentional stopping or pausing place in a program, put in place for debugging purposes."
   ]
  }
 ],
 "metadata": {
  "kernelspec": {
   "display_name": "Python 3 (ipykernel)",
   "language": "python",
   "name": "python3"
  },
  "language_info": {
   "codemirror_mode": {
    "name": "ipython",
    "version": 3
   },
   "file_extension": ".py",
   "mimetype": "text/x-python",
   "name": "python",
   "nbconvert_exporter": "python",
   "pygments_lexer": "ipython3",
   "version": "3.9.13"
  }
 },
 "nbformat": 4,
 "nbformat_minor": 5
}
