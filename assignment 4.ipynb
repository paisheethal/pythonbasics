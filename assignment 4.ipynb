{
 "cells": [
  {
   "cell_type": "code",
   "execution_count": null,
   "id": "807db87a",
   "metadata": {},
   "outputs": [],
   "source": [
    "1. What exactly is []?\n",
    "\n",
    "answer: it is empty list"
   ]
  },
  {
   "cell_type": "code",
   "execution_count": null,
   "id": "d5aa3196",
   "metadata": {},
   "outputs": [],
   "source": [
    "2. In a list of values stored in a variable called spam, how would you assign the value 'hello' as the third value? (Assume [2, 4, 6, 8, 10] are in spam.)\n",
    "Let's pretend the spam includes the list ['a', 'b', 'c', 'd'] for the next three queries.\n",
    "\n",
    "answer:\n",
    "spam=[2, 4, 6, 8, 10]\n",
    "spam.insert(2,\"hello\")"
   ]
  },
  {
   "cell_type": "code",
   "execution_count": null,
   "id": "a58e2848",
   "metadata": {},
   "outputs": [],
   "source": [
    "3. What is the value of spam[int(int('3' * 2) / 11)]?\n",
    "spam=['a', 'b', 'c', 'd']\n",
    "output:'d'"
   ]
  },
  {
   "cell_type": "code",
   "execution_count": null,
   "id": "05754c3c",
   "metadata": {},
   "outputs": [],
   "source": [
    "4. What is the value of spam[-1]?\n",
    "spam=['a', 'b', 'c', 'd']\n",
    "output:'d'"
   ]
  },
  {
   "cell_type": "code",
   "execution_count": null,
   "id": "2a79b767",
   "metadata": {},
   "outputs": [],
   "source": [
    "5. What is the value of spam[:2]?\n",
    "Let's pretend bacon has the list [3.14, 'cat,' 11, 'cat,' True] for the next three questions.\n",
    "bacon=[3.14, 'cat,' 11, 'cat,' True]\n",
    "output:[3.14, 'cat']"
   ]
  },
  {
   "cell_type": "code",
   "execution_count": null,
   "id": "6c9632ea",
   "metadata": {},
   "outputs": [],
   "source": [
    "6. What is the value of bacon.index('cat')?\n",
    "\n",
    "output:1"
   ]
  },
  {
   "cell_type": "code",
   "execution_count": null,
   "id": "14b2d384",
   "metadata": {},
   "outputs": [],
   "source": [
    "7. How does bacon.append(99) change the look of the list value in bacon?\n",
    "\n",
    "output:bacon.append(99), appends the 99 to last item of list\n",
    "bacon=[3.14, 'cat,' 11, 'cat,' True, 99]"
   ]
  },
  {
   "cell_type": "code",
   "execution_count": null,
   "id": "11b5254c",
   "metadata": {},
   "outputs": [],
   "source": [
    "8. How does bacon.remove('cat') change the look of the list in bacon?\n",
    "#bacon=[3.14, 'cat,' 11, 'cat,' True]\n",
    "answer: bacon.remove('cat'), removes the 1st occurrence of cat from the list\n",
    "bacon=[3.14,' 11, 'cat,' True]"
   ]
  },
  {
   "cell_type": "code",
   "execution_count": null,
   "id": "97293941",
   "metadata": {},
   "outputs": [],
   "source": [
    "9. What are the list concatenation and list replication operators?\n",
    "\n",
    "answer:\n",
    "list concatenation operator +, which concate two list\n",
    "ex:[1,2,3]+[4,5,6]\n",
    "output:[1, 2, 3, 4, 5, 6]\n",
    "    \n",
    "list replication operator *, which multiplies the list\n",
    "ex: [1,2,3]*2\n",
    "output:[1, 2, 3, 1, 2, 3]"
   ]
  },
  {
   "cell_type": "code",
   "execution_count": null,
   "id": "afcb3aaf",
   "metadata": {},
   "outputs": [],
   "source": [
    "10. What is difference between the list methods append() and insert()?\n",
    "\n",
    "answer: \n",
    "append(), inserts the item to the last index of a list\n",
    "insert(), inserts the item to the specific index of a list"
   ]
  },
  {
   "cell_type": "code",
   "execution_count": null,
   "id": "36f56019",
   "metadata": {},
   "outputs": [],
   "source": [
    "11. What are the two methods for removing items from a list?\n",
    "\n",
    "answer: \n",
    "remove(), removes the 1st occurence item from a list\n",
    "pop(), removes last item of a list"
   ]
  },
  {
   "cell_type": "code",
   "execution_count": null,
   "id": "12578e6d",
   "metadata": {},
   "outputs": [],
   "source": [
    "12. Describe how list values and string values are identical.\n",
    "\n",
    "answer:\n",
    "a strings length is the number of characters in the string\n",
    "a lists length is the number of items in the list. "
   ]
  },
  {
   "cell_type": "code",
   "execution_count": null,
   "id": "035e6e2e",
   "metadata": {},
   "outputs": [],
   "source": [
    "13. What's the difference between tuples and lists?\n",
    "\n",
    "answer:\n",
    "tuples: it is immutable, tuple items cannot be changed.\n",
    "lists: it is mutable, list items can be changed."
   ]
  },
  {
   "cell_type": "code",
   "execution_count": null,
   "id": "ddb36f44",
   "metadata": {},
   "outputs": [],
   "source": [
    "14. How do you type a tuple value that only contains the integer 42?\n",
    "\n",
    "answer:t=(42,)"
   ]
  },
  {
   "cell_type": "code",
   "execution_count": null,
   "id": "8d2008a6",
   "metadata": {},
   "outputs": [],
   "source": [
    "15. How do you get a list value's tuple form? How do you get a tuple value's list form?\n",
    "\n",
    "answer:list() and tuple() function helps us to get the list value from tuple and visa versa"
   ]
  },
  {
   "cell_type": "code",
   "execution_count": null,
   "id": "01bcbd99",
   "metadata": {},
   "outputs": [],
   "source": [
    "16. Variables that \"contain\" list values are not necessarily lists themselves. Instead, what do they contain?\n",
    "\n",
    "answer:they contain refernce to the list value"
   ]
  },
  {
   "cell_type": "code",
   "execution_count": null,
   "id": "81d8b060",
   "metadata": {},
   "outputs": [],
   "source": [
    "17. How do you distinguish between copy.copy() and copy.deepcopy()?\n",
    "\n",
    "answer:The copy.copy() function will do a shallow copy of a list, while the copy.deepcopy() function will do a deep copy of a list. That is, only copy.deepcopy() will duplicate any lists inside the list."
   ]
  }
 ],
 "metadata": {
  "kernelspec": {
   "display_name": "Python 3 (ipykernel)",
   "language": "python",
   "name": "python3"
  },
  "language_info": {
   "codemirror_mode": {
    "name": "ipython",
    "version": 3
   },
   "file_extension": ".py",
   "mimetype": "text/x-python",
   "name": "python",
   "nbconvert_exporter": "python",
   "pygments_lexer": "ipython3",
   "version": "3.9.13"
  }
 },
 "nbformat": 4,
 "nbformat_minor": 5
}
