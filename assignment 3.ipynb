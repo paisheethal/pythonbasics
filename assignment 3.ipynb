{
 "cells": [
  {
   "cell_type": "code",
   "execution_count": null,
   "id": "25b300d3",
   "metadata": {},
   "outputs": [],
   "source": [
    "1. Why are functions advantageous to have in your programs?\n",
    "\n",
    "answer:\n",
    "i.Reducing duplication of code\n",
    "ii.Decomposing complex problems into simpler pieces\n",
    "iii.Improving clarity of the code\n",
    "iv.Reuse of code\n",
    "v.Information hiding"
   ]
  },
  {
   "cell_type": "code",
   "execution_count": null,
   "id": "19aa0842",
   "metadata": {},
   "outputs": [],
   "source": [
    "2. When does the code in a function run: when it's specified or when it's called?\n",
    "    \n",
    "answer:\n",
    "code in function runs \"when it is called\"."
   ]
  },
  {
   "cell_type": "code",
   "execution_count": null,
   "id": "40a54a62",
   "metadata": {},
   "outputs": [],
   "source": [
    "3. What statement creates a function?\n",
    "\n",
    "answer: def keyword creates a function\n",
    "def function_name(arg):\n",
    "    statment"
   ]
  },
  {
   "cell_type": "code",
   "execution_count": null,
   "id": "38487cbc",
   "metadata": {},
   "outputs": [],
   "source": [
    "4. What is the difference between a function and a function call?\n",
    "\n",
    "answer:\n",
    "function - function is a block of code that executes when it is called and returns the result.\n",
    "function call - it triggers the function to execute the block of code."
   ]
  },
  {
   "cell_type": "code",
   "execution_count": null,
   "id": "fe7bf628",
   "metadata": {},
   "outputs": [],
   "source": [
    "5. How many global scopes are there in a Python program? How many local scopes?\n",
    "\n",
    "answer:\n",
    "one global scope in python program\n",
    "many local scope in python program"
   ]
  },
  {
   "cell_type": "code",
   "execution_count": null,
   "id": "17165928",
   "metadata": {},
   "outputs": [],
   "source": [
    "6. What happens to variables in a local scope when the function call returns?\n",
    "\n",
    "answer:\n",
    "Each call of the function creates new local variables, and their lifetimes expire when the function returns to the caller."
   ]
  },
  {
   "cell_type": "code",
   "execution_count": null,
   "id": "ec97a057",
   "metadata": {},
   "outputs": [],
   "source": [
    "7. What is the concept of a return value? Is it possible to have a return value in an expression?\n",
    "\n",
    "answer:the concept of a return value is to make your functions send Python objects back to the caller code.\n",
    "Yes,it is possible to have a return value in an expression"
   ]
  },
  {
   "cell_type": "code",
   "execution_count": null,
   "id": "a47fc389",
   "metadata": {},
   "outputs": [],
   "source": [
    "8. If a function does not have a return statement, what is the return value of a call to that function?\n",
    "\n",
    "answer:the return value of a call to that function is None(Nonetype)"
   ]
  },
  {
   "cell_type": "code",
   "execution_count": null,
   "id": "f1c07494",
   "metadata": {},
   "outputs": [],
   "source": [
    "9. How do you make a function variable refer to the global variable?\n",
    "\n",
    "answer: use the global keyword to make a function variable refer to the global variable"
   ]
  },
  {
   "cell_type": "code",
   "execution_count": null,
   "id": "ff1c5680",
   "metadata": {},
   "outputs": [],
   "source": [
    "10. What is the data type of None?\n",
    "\n",
    "answer:NoneType is the data type of None"
   ]
  },
  {
   "cell_type": "code",
   "execution_count": null,
   "id": "70aa95f0",
   "metadata": {},
   "outputs": [],
   "source": [
    "11. What does the sentence import areallyourpetsnamederic do?\n",
    "\n",
    "answer:Import statement allows you to import all the functions from a module into your code"
   ]
  },
  {
   "cell_type": "code",
   "execution_count": null,
   "id": "d6f7c906",
   "metadata": {},
   "outputs": [],
   "source": [
    "12. If you had a bacon() feature in a spam module, what would you call it after importing spam?\n",
    "\n",
    "answer:\n",
    "import spam\n",
    "\n",
    "#calling a function in spam module\n",
    "spam.bacon()"
   ]
  },
  {
   "cell_type": "code",
   "execution_count": null,
   "id": "d22a95c7",
   "metadata": {},
   "outputs": [],
   "source": [
    "13. What can you do to save a programme from crashing if it encounters an error?\n",
    "\n",
    "answer:Error handling technique to save a programme from crashing if it encounters an error"
   ]
  },
  {
   "cell_type": "code",
   "execution_count": null,
   "id": "30b8a798",
   "metadata": {},
   "outputs": [],
   "source": [
    "14. What is the purpose of the try clause? What is the purpose of the except clause?\n",
    "\n",
    "answer:\n",
    "The try block lets you test a block of code for errors.\n",
    "The except block lets you handle the error."
   ]
  }
 ],
 "metadata": {
  "kernelspec": {
   "display_name": "Python 3 (ipykernel)",
   "language": "python",
   "name": "python3"
  },
  "language_info": {
   "codemirror_mode": {
    "name": "ipython",
    "version": 3
   },
   "file_extension": ".py",
   "mimetype": "text/x-python",
   "name": "python",
   "nbconvert_exporter": "python",
   "pygments_lexer": "ipython3",
   "version": "3.9.13"
  }
 },
 "nbformat": 4,
 "nbformat_minor": 5
}
