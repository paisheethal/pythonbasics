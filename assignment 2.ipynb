{
 "cells": [
  {
   "cell_type": "code",
   "execution_count": null,
   "id": "e7c557b9",
   "metadata": {},
   "outputs": [],
   "source": [
    "1.What are the two values of the Boolean data type? How do you write them?\n",
    "\n",
    "answer:\n",
    "True and False are the two values of the Boolean data type.\n",
    "a=True,b=False"
   ]
  },
  {
   "cell_type": "code",
   "execution_count": null,
   "id": "16fce393",
   "metadata": {},
   "outputs": [],
   "source": [
    "2. What are the three different types of Boolean operators?\n",
    "answer:\n",
    "AND, OR, Not are the three different types of Boolean operators"
   ]
  },
  {
   "cell_type": "code",
   "execution_count": null,
   "id": "fa30e718",
   "metadata": {},
   "outputs": [],
   "source": [
    "3. Make a list of each Boolean operator's truth tables (i.e. every possible combination of Boolean values for the operator and what it evaluate ).\n",
    "answer:\n",
    "AND Operator\n",
    "True and True=True\n",
    "True and False=False\n",
    "False and True=False\n",
    "False and False=False\n",
    "\n",
    "OR Operator\n",
    "True or True=True\n",
    "True or False=True\n",
    "False or True=True\n",
    "False or False=False\n",
    "\n",
    "NOT Operator\n",
    "not(True)=False\n",
    "not(False)=True"
   ]
  },
  {
   "cell_type": "code",
   "execution_count": null,
   "id": "8046d2d2",
   "metadata": {},
   "outputs": [],
   "source": [
    "4. What are the values of the following expressions?\n",
    "(5 > 4) and (3 == 5)\n",
    "not (5 > 4)\n",
    "(5 > 4) or (3 == 5)\n",
    "not ((5 > 4) or (3 == 5))\n",
    "(True and True) and (True == False)\n",
    "(not False) or (not True)\n",
    "\n",
    "answer:\n",
    "(5 > 4) and (3 == 5) output: False\n",
    "not (5 > 4) output: False\n",
    "(5 > 4) or (3 == 5) output: True\n",
    "not ((5 > 4) or (3 == 5)) output: False\n",
    "(True and True) and (True == False) output:False\n",
    "(not False) or (not True) output:True"
   ]
  },
  {
   "cell_type": "code",
   "execution_count": null,
   "id": "a6d5518f",
   "metadata": {},
   "outputs": [],
   "source": [
    "5. What are the six comparison operators?\n",
    "answer:\n",
    "== equal to\n",
    "!= not equal to\n",
    ">= greater than equal to\n",
    ">  greater than\n",
    "<= less than equal to\n",
    "<  less than"
   ]
  },
  {
   "cell_type": "code",
   "execution_count": null,
   "id": "8af96e9a",
   "metadata": {},
   "outputs": [],
   "source": [
    "6. How do you tell the difference between the equal to and assignment operators?Describe a condition and when you would use one.\n",
    "\n",
    "answer:\n",
    "equal to: is used for comparison of right hand side to left hand side\n",
    "assignment operators: is to assign a value to the variable\n",
    "example:\n",
    "#assignment operator\n",
    "a=10\n",
    "#equal to\n",
    "if type(a)==int:\n",
    "    pass\n"
   ]
  },
  {
   "cell_type": "code",
   "execution_count": null,
   "id": "60a10a5d",
   "metadata": {},
   "outputs": [],
   "source": [
    "7. Identify the three blocks in this code:\n",
    "spam = 0\n",
    "if spam == 10:\n",
    "print('eggs')\n",
    "if spam > 5:\n",
    "print('bacon')\n",
    "else:\n",
    "print('ham')\n",
    "print('spam')\n",
    "print('spam')\n",
    "\n",
    "answer:\n",
    "spam = 0\n",
    "if spam == 10:\n",
    "    print('eggs')\n",
    "if spam > 5:\n",
    "    print('bacon')\n",
    "else:\n",
    "    print('ham')\n",
    "print('spam')\n",
    "print('spam')\n"
   ]
  },
  {
   "cell_type": "code",
   "execution_count": null,
   "id": "9137d5d6",
   "metadata": {},
   "outputs": [],
   "source": [
    "8. Write code that prints Hello if 1 is stored in spam, prints Howdy if 2 is stored in spam, and prints Greetings! if anything else is stored in spam.\n",
    "\n",
    "answer:\n",
    "spam=int(input())\n",
    "if spam==1:\n",
    "    print(\"Hello\")\n",
    "elif spam==2:\n",
    "    print(\"Howdy\")\n",
    "else:\n",
    "    print(\"Greetings!\")\n"
   ]
  },
  {
   "cell_type": "code",
   "execution_count": null,
   "id": "18627e0d",
   "metadata": {},
   "outputs": [],
   "source": [
    "9.If your programme is stuck in an endless loop, what keys you’ll press?\n",
    "\n",
    "answer: Ctrl+C"
   ]
  },
  {
   "cell_type": "code",
   "execution_count": null,
   "id": "fc75108e",
   "metadata": {},
   "outputs": [],
   "source": [
    "10. How can you tell the difference between break and continue?\n",
    "answer:\n",
    "break: it is used to come out of a loop.\n",
    "continue: it is use to continue the next iteration of loop without doing nothing."
   ]
  },
  {
   "cell_type": "code",
   "execution_count": null,
   "id": "576c289e",
   "metadata": {},
   "outputs": [],
   "source": [
    "11. In a for loop, what is the difference between range(10), range(0, 10), and range(0, 10, 1)?\n",
    "answer:\n",
    "No difference between range(10), range(0, 10), and range(0, 10, 1)"
   ]
  },
  {
   "cell_type": "code",
   "execution_count": null,
   "id": "ce8b545e",
   "metadata": {},
   "outputs": [],
   "source": [
    "12. Write a short program that prints the numbers 1 to 10 using a for loop. Then write an equivalent program that prints the numbers 1 to 10 using a while loop.\n",
    "answer:\n",
    "for loop\n",
    "for i in range(1,11,1):\n",
    "    print(i)\n",
    "    \n",
    "while loop\n",
    "i=1\n",
    "while i<11:\n",
    "    print(i)\n",
    "    i+=1"
   ]
  },
  {
   "cell_type": "code",
   "execution_count": null,
   "id": "c45908b5",
   "metadata": {},
   "outputs": [],
   "source": [
    "13. If you had a function named bacon() inside a module named spam, how would you call it after importing spam?\n",
    "\n",
    "answer:\n",
    "spam.bacon()"
   ]
  }
 ],
 "metadata": {
  "kernelspec": {
   "display_name": "Python 3 (ipykernel)",
   "language": "python",
   "name": "python3"
  },
  "language_info": {
   "codemirror_mode": {
    "name": "ipython",
    "version": 3
   },
   "file_extension": ".py",
   "mimetype": "text/x-python",
   "name": "python",
   "nbconvert_exporter": "python",
   "pygments_lexer": "ipython3",
   "version": "3.9.13"
  }
 },
 "nbformat": 4,
 "nbformat_minor": 5
}
