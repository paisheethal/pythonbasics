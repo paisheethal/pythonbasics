{
 "cells": [
  {
   "cell_type": "code",
   "execution_count": null,
   "id": "02dff8e7",
   "metadata": {},
   "outputs": [],
   "source": [
    "1. What advantages do Excel spreadsheets have over CSV spreadsheets?\n",
    "2.What do you pass to csv.reader() and csv.writer() to create reader and writer objects?\n",
    "3. What modes do File objects for reader and writer objects need to be opened in?\n",
    "4. What method takes a list argument and writes it to a CSV file?\n",
    "5. What do the keyword arguments delimiter and line terminator do?\n",
    "6. What function takes a string of JSON data and returns a Python data structure?\n",
    "7. What function takes a Python data structure and returns a string of JSON data?\n"
   ]
  },
  {
   "cell_type": "code",
   "execution_count": null,
   "id": "4beb2e07",
   "metadata": {},
   "outputs": [],
   "source": [
    "1. What advantages do Excel spreadsheets have over CSV spreadsheets?\n",
    "\n",
    "ans:\n",
    "Excel file formats are better for storing more complex data, CSV files are supported by nearly all data upload interfaces. \n",
    "Excel can perform VBA Coding, functions, formulas and create summaries easily when compared to CSV.CSV cannot perform VBA Coding, functions, formulas and create summaries easily when compared to Excel.\n",
    "Excel-Reading large data set is much easier for the end-user to read, comprehend and understand when compared to CSV. CSV-Reading large data set is much complicated for the end-user to read, comprehend and understand when compared to Excel.\n",
    "Excel also provides the user option for external linking of data from other sources, and also, the user can do custom add-ins.CSV-No such feature is available in CSV format when it is compared with Excel."
   ]
  },
  {
   "cell_type": "code",
   "execution_count": null,
   "id": "18fe866c",
   "metadata": {},
   "outputs": [],
   "source": [
    "2.What do you pass to csv.reader() and csv.writer() to create reader and writer objects?\n",
    "\n",
    "ans:\n",
    "csv.reader(csvfileObj)\n",
    "csv.writer(csvfileObj)"
   ]
  },
  {
   "cell_type": "code",
   "execution_count": null,
   "id": "35a0d22a",
   "metadata": {},
   "outputs": [],
   "source": [
    "3. What modes do File objects for reader and writer objects need to be opened in?\n",
    "\n",
    "ans:\n",
    "reader should read in r mode(read mode)\n",
    "writer should write in w mode(write mode)"
   ]
  },
  {
   "cell_type": "code",
   "execution_count": null,
   "id": "c0fd8043",
   "metadata": {},
   "outputs": [],
   "source": [
    "4. What method takes a list argument and writes it to a CSV file?\n",
    "\n",
    "ans:\n",
    "writerows() method takes a list argument and writes it to a CSV file"
   ]
  },
  {
   "cell_type": "code",
   "execution_count": null,
   "id": "0051128a",
   "metadata": {},
   "outputs": [],
   "source": [
    "5. What do the keyword arguments delimiter and line terminator do?\n",
    "\n",
    "ans:\n",
    "The delimiter is the character that appears between cells on a row. By default, the delimiter for a CSV file is a comma.It is used to separate the column data. \n",
    "The line terminator is the character that comes at the end of a row.By default, the delimiter for a CSV file is newline.It is used to recognise a row."
   ]
  },
  {
   "cell_type": "code",
   "execution_count": null,
   "id": "06c200ec",
   "metadata": {},
   "outputs": [],
   "source": [
    "6. What function takes a string of JSON data and returns a Python data structure?\n",
    "\n",
    "ans:\n",
    "json. loads() function takes a string of JSON data and returns a Python data structure"
   ]
  },
  {
   "cell_type": "code",
   "execution_count": null,
   "id": "1bf7eafa",
   "metadata": {},
   "outputs": [],
   "source": [
    "7. What function takes a Python data structure and returns a string of JSON data?\n",
    "\n",
    "ans:\n",
    "json.dumps() function takes a Python data structure and returns a string of JSON data"
   ]
  }
 ],
 "metadata": {
  "kernelspec": {
   "display_name": "Python 3 (ipykernel)",
   "language": "python",
   "name": "python3"
  },
  "language_info": {
   "codemirror_mode": {
    "name": "ipython",
    "version": 3
   },
   "file_extension": ".py",
   "mimetype": "text/x-python",
   "name": "python",
   "nbconvert_exporter": "python",
   "pygments_lexer": "ipython3",
   "version": "3.9.13"
  }
 },
 "nbformat": 4,
 "nbformat_minor": 5
}
