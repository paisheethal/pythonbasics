{
 "cells": [
  {
   "cell_type": "code",
   "execution_count": null,
   "id": "e339a6d1",
   "metadata": {},
   "outputs": [],
   "source": [
    "1. What are escape characters, and how do you use them?\n",
    "2. What do the escape characters n and t stand for?\n",
    "3. What is the way to include backslash characters in a string?\n",
    "4. The string \"Howl's Moving Castle\" is a correct value. Why isn't the single quote character in the word Howl's not escaped a problem?\n",
    "5. How do you write a string of newlines if you don't want to use the n character?\n",
    "6. What are the values of the given expressions?\n",
    "'Hello, world!'[1]\n",
    "'Hello, world!'[0:5]\n",
    "'Hello, world!'[:5]\n",
    "'Hello, world!'[3:]\n",
    "\n",
    "7. What are the values of the following expressions?\n",
    "'Hello'.upper()\n",
    "'Hello'.upper().isupper()\n",
    "'Hello'.upper().lower()\n",
    "8. What are the values of the following expressions?\n",
    "'Remember, remember, the fifth of July.'.split()\n",
    "'-'.join('There can only one.'.split())\n",
    "9. What are the methods for right-justifying, left-justifying, and centering a string?\n",
    "10. What is the best way to remove whitespace characters from the start or end?\n",
    "\n"
   ]
  },
  {
   "cell_type": "code",
   "execution_count": null,
   "id": "5e8dc4b3",
   "metadata": {},
   "outputs": [],
   "source": [
    "1. What are escape characters, and how do you use them?\n",
    "\n",
    "ans:\n",
    "An escape character is a backslash \\ followed by the character you want to insert.\n",
    "To insert characters that are illegal in a string, use an escape character."
   ]
  },
  {
   "cell_type": "code",
   "execution_count": null,
   "id": "dd4b3390",
   "metadata": {},
   "outputs": [],
   "source": [
    "2. What do the escape characters n and t stand for?\n",
    "\n",
    "ans:\n",
    "\\n: New Line\n",
    "\\t: Tab"
   ]
  },
  {
   "cell_type": "code",
   "execution_count": null,
   "id": "e362dba2",
   "metadata": {},
   "outputs": [],
   "source": [
    "3. What is the way to include backslash characters in a string?\n",
    "\n",
    "ans:\n",
    "Add backslash \\ followed by the character you want to insert."
   ]
  },
  {
   "cell_type": "code",
   "execution_count": null,
   "id": "0a1514c6",
   "metadata": {},
   "outputs": [],
   "source": [
    "4. The string \"Howl's Moving Castle\" is a correct value. Why isn't the single quote character in the word Howl's not escaped a problem?\n",
    "\n",
    "ans:\n",
    "The single quote in Howl's is fine because you've used double quotes to mark the beginning and end of the string"
   ]
  },
  {
   "cell_type": "code",
   "execution_count": null,
   "id": "9567951c",
   "metadata": {},
   "outputs": [],
   "source": [
    "5. How do you write a string of newlines if you don't want to use the n character?\n",
    "\n",
    "ans:\n",
    "Write the multi-line string in \"\"\" \"\"\" without using \\n\n"
   ]
  },
  {
   "cell_type": "code",
   "execution_count": null,
   "id": "470c2183",
   "metadata": {},
   "outputs": [],
   "source": [
    "6. What are the values of the given expressions?\n",
    "'Hello, world!'[1]\n",
    "'Hello, world!'[0:5]\n",
    "'Hello, world!'[:5]\n",
    "'Hello, world!'[3:]\n",
    "\n",
    "ans:\n",
    "'Hello, world!'[1] Output: 'e'\n",
    "'Hello, world!'[0:5] Output: 'Hello'\n",
    "'Hello, world!'[:5] Output: 'Hello'\n",
    "'Hello, world!'[3:] Output: 'lo, world!'"
   ]
  },
  {
   "cell_type": "code",
   "execution_count": null,
   "id": "80387945",
   "metadata": {},
   "outputs": [],
   "source": [
    "7. What are the values of the following expressions?\n",
    "'Hello'.upper()\n",
    "'Hello'.upper().isupper()\n",
    "'Hello'.upper().lower()\n",
    "\n",
    "ans:\n",
    "'Hello'.upper() Output: 'HELLO'\n",
    "'Hello'.upper().isupper() Output: True\n",
    "'Hello'.upper().lower() Output: 'hello'"
   ]
  },
  {
   "cell_type": "code",
   "execution_count": null,
   "id": "0cf48a60",
   "metadata": {},
   "outputs": [],
   "source": [
    "8. What are the values of the following expressions?\n",
    "'Remember, remember, the fifth of July.'.split()\n",
    "'-'.join('There can only one.'.split())\n",
    "\n",
    "ans:\n",
    "'Remember, remember, the fifth of July.'.split()\n",
    "Output: ['Remember,', 'remember,', 'the', 'fifth', 'of', 'July.']\n",
    "'-'.join('There can only one.'.split())\n",
    "Output: 'There-can-only-one.'"
   ]
  },
  {
   "cell_type": "code",
   "execution_count": null,
   "id": "a4a1fede",
   "metadata": {},
   "outputs": [],
   "source": [
    "9. What are the methods for right-justifying, left-justifying, and centering a string?\n",
    "\n",
    "ans:\n",
    "ljust()\n",
    "rjust()\n",
    "center()\n"
   ]
  },
  {
   "cell_type": "code",
   "execution_count": null,
   "id": "1eb28d3b",
   "metadata": {},
   "outputs": [],
   "source": [
    "10. What is the best way to remove whitespace characters from the start or end?\n",
    "\n",
    "ans: strip() method is the best way to remove whitespace characters from the start or end\n"
   ]
  }
 ],
 "metadata": {
  "kernelspec": {
   "display_name": "Python 3 (ipykernel)",
   "language": "python",
   "name": "python3"
  },
  "language_info": {
   "codemirror_mode": {
    "name": "ipython",
    "version": 3
   },
   "file_extension": ".py",
   "mimetype": "text/x-python",
   "name": "python",
   "nbconvert_exporter": "python",
   "pygments_lexer": "ipython3",
   "version": "3.9.13"
  }
 },
 "nbformat": 4,
 "nbformat_minor": 5
}
