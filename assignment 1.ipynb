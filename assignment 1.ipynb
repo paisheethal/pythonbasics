{
 "cells": [
  {
   "cell_type": "code",
   "execution_count": null,
   "id": "787d4470",
   "metadata": {},
   "outputs": [],
   "source": [
    "1. In the below elements which of them are values or an expression? eg:- values can be integer or string and expressions will be mathematical operators.\n",
    "* \n",
    "'hello'\n",
    "-87.8\n",
    "- \n",
    "/ \n",
    "+\t\n",
    "6 \n",
    "\n",
    "answer:\n",
    "values - 'hello',-87.8,6\n",
    "expressions - * , - , / , +\t"
   ]
  },
  {
   "cell_type": "code",
   "execution_count": null,
   "id": "0ad2cc38",
   "metadata": {},
   "outputs": [],
   "source": [
    "2. What is the difference between string and variable?\n",
    "\n",
    "answer:\n",
    "String - it is a primitive datatype.\n",
    "variable - it is a container to store the values."
   ]
  },
  {
   "cell_type": "code",
   "execution_count": null,
   "id": "9494166b",
   "metadata": {},
   "outputs": [],
   "source": [
    "3. Describe three different data types.\n",
    "\n",
    "answer:\n",
    "i.Numeric datatype- use to hold numeric value(int, float, complex)\n",
    "ii.String datatype - use to hold sequence of character\n",
    "iii.Boolean - use to hold True or False value"
   ]
  },
  {
   "cell_type": "code",
   "execution_count": null,
   "id": "a7a32986",
   "metadata": {},
   "outputs": [],
   "source": [
    "4. What is an expression made up of? What do all expressions do?\n",
    "\n",
    "answer:\n",
    "Expressions are made up of operator and operands.\n",
    "They provide output or results after the excecution of the line."
   ]
  },
  {
   "cell_type": "code",
   "execution_count": null,
   "id": "160a988d",
   "metadata": {},
   "outputs": [],
   "source": [
    "5. This assignment statements, like spam = 10. What is the difference between an expression and a statement?\n",
    "\n",
    "answer:\n",
    "expression - it produces output or result after the execution of the line\n",
    "assignment statement - it assigns value to the variable"
   ]
  },
  {
   "cell_type": "code",
   "execution_count": null,
   "id": "2d7926fe",
   "metadata": {},
   "outputs": [],
   "source": [
    "6. After running the following code, what does the variable bacon contain?\n",
    "bacon = 22\n",
    "bacon + 1\n",
    "\n",
    "output: bacon=22"
   ]
  },
  {
   "cell_type": "code",
   "execution_count": null,
   "id": "d8d3bbca",
   "metadata": {},
   "outputs": [],
   "source": [
    "7. What should the values of the following two terms be?\n",
    "'spam' + 'spamspam'\n",
    "'spam' * 3\n",
    "\n",
    "answer:\n",
    "'spam' + 'spamspam'\n",
    "output:'spamspamspam'\n",
    "'spam' * 3\n",
    "output:'spamspamspam'"
   ]
  },
  {
   "cell_type": "code",
   "execution_count": null,
   "id": "cd491289",
   "metadata": {},
   "outputs": [],
   "source": [
    "8. Why is eggs a valid variable name while 100 is invalid?\n",
    "\n",
    "answer:\n",
    "eggs is valid variable name because it starts with letter.\n",
    "100 is invalid variable name because it starts with number.\n",
    "valid variable naming convention is \n",
    "i.name should start with letter or underscore\n",
    "ii.name should not start with number\n",
    "iii.name can only contain alpha-numeric characters and underscores"
   ]
  },
  {
   "cell_type": "code",
   "execution_count": null,
   "id": "c036c4e7",
   "metadata": {},
   "outputs": [],
   "source": [
    "9. What three functions can be used to get the integer, floating-point number, or string version of a value?\n",
    "\n",
    "answer:integer - int(), floating-point number - float(), or string - str()"
   ]
  },
  {
   "cell_type": "code",
   "execution_count": null,
   "id": "37bd31cc",
   "metadata": {},
   "outputs": [],
   "source": [
    "10. Why does this expression cause an error? How can you fix it?\n",
    "'I have eaten ' + 99 + ' burritos.'\n",
    "\n",
    "answer:\n",
    "concatination of string and int datatype causes error , string can concate with string only.\n",
    "fix is to convert int to string datatype\n",
    "'I have eaten ' + '99' + ' burritos.' or 'I have eaten ' + str(99) + ' burritos.'"
   ]
  },
  {
   "cell_type": "code",
   "execution_count": null,
   "id": "87d31ef7",
   "metadata": {},
   "outputs": [],
   "source": []
  }
 ],
 "metadata": {
  "kernelspec": {
   "display_name": "Python 3 (ipykernel)",
   "language": "python",
   "name": "python3"
  },
  "language_info": {
   "codemirror_mode": {
    "name": "ipython",
    "version": 3
   },
   "file_extension": ".py",
   "mimetype": "text/x-python",
   "name": "python",
   "nbconvert_exporter": "python",
   "pygments_lexer": "ipython3",
   "version": "3.9.13"
  }
 },
 "nbformat": 4,
 "nbformat_minor": 5
}
