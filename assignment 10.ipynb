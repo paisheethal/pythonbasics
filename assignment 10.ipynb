{
 "cells": [
  {
   "cell_type": "code",
   "execution_count": null,
   "id": "4904f8a7",
   "metadata": {},
   "outputs": [],
   "source": [
    "1. How do you distinguish between shutil.copy() and shutil.copytree()?\n",
    "2. What function is used to rename files??\n",
    "3. What is the difference between the delete functions in the send2trash and shutil modules?\n",
    "4.ZipFile objects have a close() method just like File objects’ close() method. What ZipFile method is equivalent to File objects’ open() method?\n",
    "5. Create a programme that searches a folder tree for files with a certain file extension (such as .pdf or .jpg). Copy these files from whatever location they are in to a new folder.\n",
    "\n"
   ]
  },
  {
   "cell_type": "code",
   "execution_count": null,
   "id": "e7d7609c",
   "metadata": {},
   "outputs": [],
   "source": [
    "1. How do you distinguish between shutil.copy() and shutil.copytree()?\n",
    "\n",
    "ans:\n",
    "    shutil. copy() will copy a single file. \n",
    "    shutil. copytree() will copy an entire folder and every folder and file contained in it."
   ]
  },
  {
   "cell_type": "code",
   "execution_count": null,
   "id": "22e070b5",
   "metadata": {},
   "outputs": [],
   "source": [
    "2. What function is used to rename files??\n",
    "\n",
    "ans:\n",
    "    rename() is used to rename files"
   ]
  },
  {
   "cell_type": "code",
   "execution_count": null,
   "id": "347d4876",
   "metadata": {},
   "outputs": [],
   "source": [
    "3. What is the difference between the delete functions in the send2trash and shutil modules?\n",
    "\n",
    "ans:\n",
    "    The send2trash functions will move a file or folder to the recycle bin. \n",
    "    shutil functions will permanently delete files and folders."
   ]
  },
  {
   "cell_type": "code",
   "execution_count": null,
   "id": "e31bcdea",
   "metadata": {},
   "outputs": [],
   "source": [
    "4.ZipFile objects have a close() method just like File objects’ close() method. What ZipFile method is equivalent to File objects’ open() method?\n",
    "\n",
    "ans:\n",
    "    The zipfile.ZipFile() function is equivalent to the open() function; the first argument is the filename, and the second argument is the mode to open the ZIP file in (read, write, or append)."
   ]
  },
  {
   "cell_type": "code",
   "execution_count": null,
   "id": "87224bdd",
   "metadata": {},
   "outputs": [],
   "source": [
    "5. Create a programme that searches a folder tree for files with a certain file extension (such as .pdf or .jpg). Copy these files from whatever location they are in to a new folder.\n",
    "\n",
    "ans:\n",
    "import os\n",
    "import shutil\n",
    "import logging\n",
    "\n",
    "logging.basicConfig(filename=\"assignment10test.log\",level=logging.DEBUG, format=\"%(asctime)s %(levelname)s %(message)s\")\n",
    "\n",
    "def checkFileAndCopy(file,vdir,foldername):\n",
    "    \"\"\"check if file there and copy to new location\"\"\"\n",
    "    logging.info(\"inside the function checkFileAndCopy\")\n",
    "    try:\n",
    "        for dirfolder, folder, filename in os.walk(vdir):\n",
    "                if file in filename:\n",
    "                    logging.info(\"file is found in the cwd\")\n",
    "                    loc=os.path.abspath(os.path.join(dirfolder, file))\n",
    "                    os.makedirs(foldername)\n",
    "                    d=os.path.abspath(foldername)\n",
    "                    shutil.copy(loc,d)\n",
    "                    logging.info(\"file is copied to new folder\")\n",
    "                    break\n",
    "    except Exception as e:\n",
    "                logging.error(\"Error occured\")\n",
    "                logging.exception(\"exception occured:\"+str(e))\n",
    "                \n",
    "vdir=\"C://Users//test//DataScience\"    \n",
    "file=input(\"enter the file:\")\n",
    "foldername=\"new loc1\"\n",
    "logging.info(\"file input taken and calling the function\")\n",
    "checkFileAndCopy(file,vdir,foldername)\n",
    "logging.info(\"compiler back to the main function\")"
   ]
  }
 ],
 "metadata": {
  "kernelspec": {
   "display_name": "Python 3 (ipykernel)",
   "language": "python",
   "name": "python3"
  },
  "language_info": {
   "codemirror_mode": {
    "name": "ipython",
    "version": 3
   },
   "file_extension": ".py",
   "mimetype": "text/x-python",
   "name": "python",
   "nbconvert_exporter": "python",
   "pygments_lexer": "ipython3",
   "version": "3.9.13"
  }
 },
 "nbformat": 4,
 "nbformat_minor": 5
}
